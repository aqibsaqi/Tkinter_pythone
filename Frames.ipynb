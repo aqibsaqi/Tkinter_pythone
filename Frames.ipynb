{
 "cells": [
  {
   "cell_type": "code",
   "execution_count": 1,
   "id": "11520a75",
   "metadata": {},
   "outputs": [],
   "source": [
    "import tkinter as tk"
   ]
  },
  {
   "cell_type": "code",
   "execution_count": 20,
   "id": "2f5c05b9",
   "metadata": {},
   "outputs": [],
   "source": [
    "root= tk.Tk()\n",
    "root.title(\"Frame and nested layout\")\n",
    "root.geometry(\"500x350\")\n",
    "frame = tk.Frame(root)\n",
    "frame.pack(padx=10, pady=10)\n",
    "# Use grid INSIDE the frame only\n",
    "label1 = tk.Label(frame, text=\"user_name\")\n",
    "label1.grid(row=10, column=5, padx=5, pady=5)\n",
    "\n",
    "entry = tk.Entry(frame)\n",
    "entry.grid(row=10, column=7, padx=5, pady=5)\n",
    "labe2=tk.Label(frame,text=\"password\",bg=\"white\",fg=\"black\").grid(row=20,column=5, padx=6,pady=6)\n",
    "entry=tk.Entry(frame).grid(row=20,column=7, padx=6,pady=6)\n",
    "\n",
    "button =tk.Button(root,text=\"Submit\",bg=\"green\",fg=\"white\").pack(side=\"bottom\",fill=\"x\",padx=\"10\",pady=\"10\")\n",
    "root.mainloop()"
   ]
  },
  {
   "cell_type": "code",
   "execution_count": null,
   "id": "80ea9e3e",
   "metadata": {},
   "outputs": [],
   "source": []
  },
  {
   "cell_type": "code",
   "execution_count": null,
   "id": "7ce52e9b",
   "metadata": {},
   "outputs": [],
   "source": []
  }
 ],
 "metadata": {
  "kernelspec": {
   "display_name": "Python 3 (ipykernel)",
   "language": "python",
   "name": "python3"
  },
  "language_info": {
   "codemirror_mode": {
    "name": "ipython",
    "version": 3
   },
   "file_extension": ".py",
   "mimetype": "text/x-python",
   "name": "python",
   "nbconvert_exporter": "python",
   "pygments_lexer": "ipython3",
   "version": "3.11.7"
  }
 },
 "nbformat": 4,
 "nbformat_minor": 5
}

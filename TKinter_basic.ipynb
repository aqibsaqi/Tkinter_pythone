{
 "cells": [
  {
   "cell_type": "code",
   "execution_count": 7,
   "id": "b93eab5e",
   "metadata": {},
   "outputs": [],
   "source": [
    "import tkinter as tk\n",
    "def say_hello():\n",
    "    label.config(text=\"Hello \" + entry.get())\n",
    "#create instance \n",
    "root = tk.Tk()\n",
    "#Title\n",
    "root.title(\"My First App\")\n",
    "#window size set width x height\n",
    "root.geometry(\"300x200\")  \n",
    "#text display in window\n",
    "label = tk.Label(root, text=\"Welcome!\")\n",
    "label.pack()\n",
    "label = tk.Label(root, text=\"Styled Text\", font=(\"Helvetica\", 16), fg=\"blue\", bg=\"yellow\")\n",
    "label.pack()\n",
    "#text box create \n",
    "entry = tk.Entry(root)\n",
    "entry.pack()\n",
    "#button create\n",
    "button = tk.Button(root, text=\"Say Hello\", command=say_hello) #-->comand click on button then funct call\n",
    "button.pack()\n",
    "#submit button create\n",
    "tk.Button(root, text=\"Submit\",bg=\"green\",fg=\"white\").pack(side=\"bottom\", fill=\"x\", padx=10, pady=5) #-->pack layout padding x,padding y\n",
    "root.mainloop()\n"
   ]
  },
  {
   "cell_type": "code",
   "execution_count": 3,
   "id": "340bf10c",
   "metadata": {},
   "outputs": [],
   "source": [
    "\n",
    "\n",
    "root.mainloop()\n"
   ]
  },
  {
   "cell_type": "code",
   "execution_count": 9,
   "id": "f75944c1",
   "metadata": {},
   "outputs": [
    {
     "ename": "AttributeError",
     "evalue": "module 'tkinter' has no attribute 'tk'",
     "output_type": "error",
     "traceback": [
      "\u001b[1;31m---------------------------------------------------------------------------\u001b[0m",
      "\u001b[1;31mAttributeError\u001b[0m                            Traceback (most recent call last)",
      "Cell \u001b[1;32mIn[9], line 1\u001b[0m\n\u001b[1;32m----> 1\u001b[0m root \u001b[38;5;241m=\u001b[39m tk\u001b[38;5;241m.\u001b[39mtk()\n\u001b[0;32m      2\u001b[0m root\u001b[38;5;241m.\u001b[39mmainloop()\n",
      "\u001b[1;31mAttributeError\u001b[0m: module 'tkinter' has no attribute 'tk'"
     ]
    }
   ],
   "source": []
  },
  {
   "cell_type": "code",
   "execution_count": null,
   "id": "3229b49d",
   "metadata": {},
   "outputs": [],
   "source": []
  }
 ],
 "metadata": {
  "kernelspec": {
   "display_name": "Python 3 (ipykernel)",
   "language": "python",
   "name": "python3"
  },
  "language_info": {
   "codemirror_mode": {
    "name": "ipython",
    "version": 3
   },
   "file_extension": ".py",
   "mimetype": "text/x-python",
   "name": "python",
   "nbconvert_exporter": "python",
   "pygments_lexer": "ipython3",
   "version": "3.11.7"
  }
 },
 "nbformat": 4,
 "nbformat_minor": 5
}

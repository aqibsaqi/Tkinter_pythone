{
 "cells": [
  {
   "cell_type": "code",
   "execution_count": 9,
   "id": "72219bbb",
   "metadata": {},
   "outputs": [],
   "source": [
    "import tkinter as tk\n",
    "from tkinter import ttk"
   ]
  },
  {
   "cell_type": "code",
   "execution_count": 13,
   "id": "e411fe4b",
   "metadata": {},
   "outputs": [],
   "source": [
    "root=tk.Tk()\n",
    "root.title(\"check radio button\")\n",
    "root.geometry(\"600x400\")\n",
    "label=tk.Label(root,text=\"Well Come\",fg=\"blue\").pack()\n",
    "\n",
    "combo = ttk.Combobox(root, values=[\"Apple\", \"Banana\", \"Cherry\"])\n",
    "combo.pack()\n",
    "\n",
    "listbox = tk.Listbox(root)\n",
    "listbox.insert(1, \"Python\")\n",
    "listbox.insert(2, \"Java\")\n",
    "listbox.pack(side=\"bottom\")\n",
    "root.mainloop()"
   ]
  },
  {
   "cell_type": "code",
   "execution_count": null,
   "id": "889da32d",
   "metadata": {},
   "outputs": [],
   "source": []
  }
 ],
 "metadata": {
  "kernelspec": {
   "display_name": "Python 3 (ipykernel)",
   "language": "python",
   "name": "python3"
  },
  "language_info": {
   "codemirror_mode": {
    "name": "ipython",
    "version": 3
   },
   "file_extension": ".py",
   "mimetype": "text/x-python",
   "name": "python",
   "nbconvert_exporter": "python",
   "pygments_lexer": "ipython3",
   "version": "3.11.7"
  }
 },
 "nbformat": 4,
 "nbformat_minor": 5
}

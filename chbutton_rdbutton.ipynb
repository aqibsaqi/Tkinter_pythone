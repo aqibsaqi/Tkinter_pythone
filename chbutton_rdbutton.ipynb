{
 "cells": [
  {
   "cell_type": "code",
   "execution_count": 1,
   "id": "b7ac97a8",
   "metadata": {},
   "outputs": [],
   "source": [
    "import tkinter as tk"
   ]
  },
  {
   "cell_type": "code",
   "execution_count": 10,
   "id": "09d2548f",
   "metadata": {},
   "outputs": [
    {
     "name": "stdout",
     "output_type": "stream",
     "text": [
      "Selected Gender: Male\n"
     ]
    }
   ],
   "source": [
    "root=tk.Tk()\n",
    "root.title(\"check radio button\")\n",
    "root.geometry(\"600x400\")\n",
    "label=tk.Label(root,text=\"Well Come\",fg=\"blue\").grid(row=10, column=0, sticky='w')\n",
    "var = tk.IntVar()\n",
    "chk = tk.Checkbutton(root, text=\"Accept\", variable=var)\n",
    "chk.grid(row=10, column=0, sticky='w')\n",
    "# Create the StringVar to hold gender value\n",
    "gender = tk.StringVar()\n",
    "gender.set(\"Male\")  # default selection\n",
    "\n",
    "# Label\n",
    "tk.Label(root, text=\"Gender:\").grid(row=0, column=0, sticky='w')\n",
    "\n",
    "# Radio buttons\n",
    "tk.Radiobutton(root, text=\"Male\", variable=gender, value=\"Male\").grid(row=0, column=1)\n",
    "tk.Radiobutton(root, text=\"Female\", variable=gender, value=\"Female\").grid(row=0, column=2)\n",
    "\n",
    "# Button to show selected value\n",
    "def show_selection():\n",
    "    print(\"Selected Gender:\", gender.get())\n",
    "\n",
    "tk.Button(root, text=\"Submit\", command=show_selection).grid(row=1, column=0, columnspan=3)\n",
    "\n",
    "\n",
    "root.mainloop()"
   ]
  },
  {
   "cell_type": "code",
   "execution_count": null,
   "id": "19ca1863",
   "metadata": {},
   "outputs": [],
   "source": []
  }
 ],
 "metadata": {
  "kernelspec": {
   "display_name": "Python 3 (ipykernel)",
   "language": "python",
   "name": "python3"
  },
  "language_info": {
   "codemirror_mode": {
    "name": "ipython",
    "version": 3
   },
   "file_extension": ".py",
   "mimetype": "text/x-python",
   "name": "python",
   "nbconvert_exporter": "python",
   "pygments_lexer": "ipython3",
   "version": "3.11.7"
  }
 },
 "nbformat": 4,
 "nbformat_minor": 5
}
